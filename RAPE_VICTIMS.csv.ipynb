{
 "cells": [
  {
   "cell_type": "markdown",
   "metadata": {},
   "source": [
    "ANALYSING RAPE CASES = BASED ON REGION; BASED ON YEAR; AGE"
   ]
  },
  {
   "cell_type": "code",
   "execution_count": 41,
   "metadata": {},
   "outputs": [],
   "source": [
    "import pandas as pd\n",
    "df=pd.read_csv('RAPE_VICTIMS.csv')"
   ]
  },
  {
   "cell_type": "markdown",
   "metadata": {},
   "source": [
    "Importing libraries"
   ]
  },
  {
   "cell_type": "code",
   "execution_count": 42,
   "metadata": {},
   "outputs": [],
   "source": [
    "import seaborn as sns\n",
    "import matplotlib.pyplot as plt\n",
    "import warnings\n",
    "warnings.simplefilter(\"ignore\")"
   ]
  },
  {
   "cell_type": "code",
   "execution_count": 43,
   "metadata": {},
   "outputs": [
    {
     "data": {
      "text/html": [
       "<div>\n",
       "<style scoped>\n",
       "    .dataframe tbody tr th:only-of-type {\n",
       "        vertical-align: middle;\n",
       "    }\n",
       "\n",
       "    .dataframe tbody tr th {\n",
       "        vertical-align: top;\n",
       "    }\n",
       "\n",
       "    .dataframe thead th {\n",
       "        text-align: right;\n",
       "    }\n",
       "</style>\n",
       "<table border=\"1\" class=\"dataframe\">\n",
       "  <thead>\n",
       "    <tr style=\"text-align: right;\">\n",
       "      <th></th>\n",
       "      <th>Area_Name</th>\n",
       "      <th>Year</th>\n",
       "      <th>Subgroup</th>\n",
       "      <th>Rape_Cases_Reported</th>\n",
       "      <th>Victims_Above_50_Yrs</th>\n",
       "      <th>Victims_Between_10-14_Yrs</th>\n",
       "      <th>Victims_Between_14-18_Yrs</th>\n",
       "      <th>Victims_Between_18-30_Yrs</th>\n",
       "      <th>Victims_Between_30-50_Yrs</th>\n",
       "      <th>Victims_of_Rape_Total</th>\n",
       "      <th>Victims_Upto_10_Yrs</th>\n",
       "    </tr>\n",
       "  </thead>\n",
       "  <tbody>\n",
       "    <tr>\n",
       "      <th>0</th>\n",
       "      <td>Andaman &amp; Nicobar Islands</td>\n",
       "      <td>2001</td>\n",
       "      <td>Total Rape Victims</td>\n",
       "      <td>3</td>\n",
       "      <td>0</td>\n",
       "      <td>0</td>\n",
       "      <td>3</td>\n",
       "      <td>0</td>\n",
       "      <td>0</td>\n",
       "      <td>3</td>\n",
       "      <td>0</td>\n",
       "    </tr>\n",
       "    <tr>\n",
       "      <th>1</th>\n",
       "      <td>Andaman &amp; Nicobar Islands</td>\n",
       "      <td>2001</td>\n",
       "      <td>Victims of Incest Rape</td>\n",
       "      <td>1</td>\n",
       "      <td>0</td>\n",
       "      <td>0</td>\n",
       "      <td>1</td>\n",
       "      <td>0</td>\n",
       "      <td>0</td>\n",
       "      <td>1</td>\n",
       "      <td>0</td>\n",
       "    </tr>\n",
       "    <tr>\n",
       "      <th>2</th>\n",
       "      <td>Andaman &amp; Nicobar Islands</td>\n",
       "      <td>2001</td>\n",
       "      <td>Victims of Other Rape</td>\n",
       "      <td>2</td>\n",
       "      <td>0</td>\n",
       "      <td>0</td>\n",
       "      <td>2</td>\n",
       "      <td>0</td>\n",
       "      <td>0</td>\n",
       "      <td>2</td>\n",
       "      <td>0</td>\n",
       "    </tr>\n",
       "    <tr>\n",
       "      <th>3</th>\n",
       "      <td>Andaman &amp; Nicobar Islands</td>\n",
       "      <td>2002</td>\n",
       "      <td>Total Rape Victims</td>\n",
       "      <td>2</td>\n",
       "      <td>0</td>\n",
       "      <td>0</td>\n",
       "      <td>1</td>\n",
       "      <td>1</td>\n",
       "      <td>0</td>\n",
       "      <td>2</td>\n",
       "      <td>0</td>\n",
       "    </tr>\n",
       "    <tr>\n",
       "      <th>4</th>\n",
       "      <td>Andaman &amp; Nicobar Islands</td>\n",
       "      <td>2002</td>\n",
       "      <td>Victims of Incest Rape</td>\n",
       "      <td>0</td>\n",
       "      <td>0</td>\n",
       "      <td>0</td>\n",
       "      <td>0</td>\n",
       "      <td>0</td>\n",
       "      <td>0</td>\n",
       "      <td>0</td>\n",
       "      <td>0</td>\n",
       "    </tr>\n",
       "  </tbody>\n",
       "</table>\n",
       "</div>"
      ],
      "text/plain": [
       "                   Area_Name  Year                Subgroup  \\\n",
       "0  Andaman & Nicobar Islands  2001      Total Rape Victims   \n",
       "1  Andaman & Nicobar Islands  2001  Victims of Incest Rape   \n",
       "2  Andaman & Nicobar Islands  2001   Victims of Other Rape   \n",
       "3  Andaman & Nicobar Islands  2002      Total Rape Victims   \n",
       "4  Andaman & Nicobar Islands  2002  Victims of Incest Rape   \n",
       "\n",
       "   Rape_Cases_Reported  Victims_Above_50_Yrs  Victims_Between_10-14_Yrs  \\\n",
       "0                    3                     0                          0   \n",
       "1                    1                     0                          0   \n",
       "2                    2                     0                          0   \n",
       "3                    2                     0                          0   \n",
       "4                    0                     0                          0   \n",
       "\n",
       "   Victims_Between_14-18_Yrs  Victims_Between_18-30_Yrs  \\\n",
       "0                          3                          0   \n",
       "1                          1                          0   \n",
       "2                          2                          0   \n",
       "3                          1                          1   \n",
       "4                          0                          0   \n",
       "\n",
       "   Victims_Between_30-50_Yrs  Victims_of_Rape_Total  Victims_Upto_10_Yrs  \n",
       "0                          0                      3                    0  \n",
       "1                          0                      1                    0  \n",
       "2                          0                      2                    0  \n",
       "3                          0                      2                    0  \n",
       "4                          0                      0                    0  "
      ]
     },
     "execution_count": 43,
     "metadata": {},
     "output_type": "execute_result"
    }
   ],
   "source": [
    "df.head(5)"
   ]
  },
  {
   "cell_type": "markdown",
   "metadata": {},
   "source": [
    "Data Preperation"
   ]
  },
  {
   "cell_type": "code",
   "execution_count": 44,
   "metadata": {},
   "outputs": [
    {
     "data": {
      "text/plain": [
       "Index(['Area_Name', 'Year', 'Subgroup', 'Rape_Cases_Reported',\n",
       "       'Victims_Above_50_Yrs', 'Victims_Between_10-14_Yrs',\n",
       "       'Victims_Between_14-18_Yrs', 'Victims_Between_18-30_Yrs',\n",
       "       'Victims_Between_30-50_Yrs', 'Victims_of_Rape_Total',\n",
       "       'Victims_Upto_10_Yrs'],\n",
       "      dtype='object')"
      ]
     },
     "execution_count": 44,
     "metadata": {},
     "output_type": "execute_result"
    }
   ],
   "source": [
    "df.columns"
   ]
  },
  {
   "cell_type": "code",
   "execution_count": 45,
   "metadata": {},
   "outputs": [
    {
     "data": {
      "text/plain": [
       "Area_Name                    object\n",
       "Year                          int64\n",
       "Subgroup                     object\n",
       "Rape_Cases_Reported           int64\n",
       "Victims_Above_50_Yrs          int64\n",
       "Victims_Between_10-14_Yrs     int64\n",
       "Victims_Between_14-18_Yrs     int64\n",
       "Victims_Between_18-30_Yrs     int64\n",
       "Victims_Between_30-50_Yrs     int64\n",
       "Victims_of_Rape_Total         int64\n",
       "Victims_Upto_10_Yrs           int64\n",
       "dtype: object"
      ]
     },
     "execution_count": 45,
     "metadata": {},
     "output_type": "execute_result"
    }
   ],
   "source": [
    "df.dtypes"
   ]
  },
  {
   "cell_type": "code",
   "execution_count": 46,
   "metadata": {},
   "outputs": [
    {
     "data": {
      "text/plain": [
       "Area_Name                    0\n",
       "Year                         0\n",
       "Subgroup                     0\n",
       "Rape_Cases_Reported          0\n",
       "Victims_Above_50_Yrs         0\n",
       "Victims_Between_10-14_Yrs    0\n",
       "Victims_Between_14-18_Yrs    0\n",
       "Victims_Between_18-30_Yrs    0\n",
       "Victims_Between_30-50_Yrs    0\n",
       "Victims_of_Rape_Total        0\n",
       "Victims_Upto_10_Yrs          0\n",
       "dtype: int64"
      ]
     },
     "execution_count": 46,
     "metadata": {},
     "output_type": "execute_result"
    }
   ],
   "source": [
    "df.isnull().sum()"
   ]
  },
  {
   "cell_type": "code",
   "execution_count": 47,
   "metadata": {},
   "outputs": [
    {
     "data": {
      "text/plain": [
       "(1050, 11)"
      ]
     },
     "execution_count": 47,
     "metadata": {},
     "output_type": "execute_result"
    }
   ],
   "source": [
    "df.shape"
   ]
  },
  {
   "cell_type": "markdown",
   "metadata": {},
   "source": [
    "Understanding the data"
   ]
  },
  {
   "cell_type": "code",
   "execution_count": 48,
   "metadata": {},
   "outputs": [
    {
     "data": {
      "text/plain": [
       "Area_Name                    0\n",
       "Year                         0\n",
       "Subgroup                     0\n",
       "Rape_Cases_Reported          0\n",
       "Victims_Above_50_Yrs         0\n",
       "Victims_Between_10-14_Yrs    0\n",
       "Victims_Between_14-18_Yrs    0\n",
       "Victims_Between_18-30_Yrs    0\n",
       "Victims_Between_30-50_Yrs    0\n",
       "Victims_of_Rape_Total        0\n",
       "Victims_Upto_10_Yrs          0\n",
       "dtype: int64"
      ]
     },
     "execution_count": 48,
     "metadata": {},
     "output_type": "execute_result"
    }
   ],
   "source": [
    "df.isnull().sum()"
   ]
  },
  {
   "cell_type": "code",
   "execution_count": 49,
   "metadata": {},
   "outputs": [
    {
     "data": {
      "text/plain": [
       "Area_Name                     35\n",
       "Year                          10\n",
       "Subgroup                       3\n",
       "Rape_Cases_Reported          429\n",
       "Victims_Above_50_Yrs          25\n",
       "Victims_Between_10-14_Yrs    139\n",
       "Victims_Between_14-18_Yrs    200\n",
       "Victims_Between_18-30_Yrs    364\n",
       "Victims_Between_30-50_Yrs    221\n",
       "Victims_of_Rape_Total        434\n",
       "Victims_Upto_10_Yrs           86\n",
       "dtype: int64"
      ]
     },
     "execution_count": 49,
     "metadata": {},
     "output_type": "execute_result"
    }
   ],
   "source": [
    "df.apply(lambda x : len(x.unique()))\n"
   ]
  },
  {
   "cell_type": "code",
   "execution_count": 50,
   "metadata": {},
   "outputs": [
    {
     "data": {
      "text/plain": [
       "array(['Andaman & Nicobar Islands', 'Andhra Pradesh', 'Arunachal Pradesh',\n",
       "       'Assam', 'Bihar', 'Chandigarh', 'Chhattisgarh',\n",
       "       'Dadra & Nagar Haveli', 'Daman & Diu', 'Delhi', 'Goa', 'Gujarat',\n",
       "       'Haryana', 'Himachal Pradesh', 'Jammu & Kashmir', 'Jharkhand',\n",
       "       'Karnataka', 'Kerala', 'Lakshadweep', 'Madhya Pradesh',\n",
       "       'Maharashtra', 'Manipur', 'Meghalaya', 'Mizoram', 'Nagaland',\n",
       "       'Odisha', 'Puducherry', 'Punjab', 'Rajasthan', 'Sikkim',\n",
       "       'Tamil Nadu', 'Tripura', 'Uttar Pradesh', 'Uttarakhand',\n",
       "       'West Bengal'], dtype=object)"
      ]
     },
     "execution_count": 50,
     "metadata": {},
     "output_type": "execute_result"
    }
   ],
   "source": [
    "df.loc[:,'Area_Name'].unique()\n"
   ]
  },
  {
   "cell_type": "code",
   "execution_count": 51,
   "metadata": {},
   "outputs": [
    {
     "data": {
      "text/plain": [
       "array(['Total Rape Victims', 'Victims of Incest Rape',\n",
       "       'Victims of Other Rape'], dtype=object)"
      ]
     },
     "execution_count": 51,
     "metadata": {},
     "output_type": "execute_result"
    }
   ],
   "source": [
    "df.loc[:,'Subgroup'].unique()\n"
   ]
  },
  {
   "cell_type": "code",
   "execution_count": 52,
   "metadata": {},
   "outputs": [],
   "source": [
    "#we will "
   ]
  },
  {
   "cell_type": "code",
   "execution_count": 53,
   "metadata": {},
   "outputs": [
    {
     "data": {
      "text/html": [
       "<div>\n",
       "<style scoped>\n",
       "    .dataframe tbody tr th:only-of-type {\n",
       "        vertical-align: middle;\n",
       "    }\n",
       "\n",
       "    .dataframe tbody tr th {\n",
       "        vertical-align: top;\n",
       "    }\n",
       "\n",
       "    .dataframe thead th {\n",
       "        text-align: right;\n",
       "    }\n",
       "</style>\n",
       "<table border=\"1\" class=\"dataframe\">\n",
       "  <thead>\n",
       "    <tr style=\"text-align: right;\">\n",
       "      <th></th>\n",
       "      <th>Area_Name</th>\n",
       "      <th>Year</th>\n",
       "      <th>Subgroup</th>\n",
       "      <th>Rape_Cases_Reported</th>\n",
       "      <th>Victims_Above_50_Yrs</th>\n",
       "      <th>Victims_Between_10-14_Yrs</th>\n",
       "      <th>Victims_Between_14-18_Yrs</th>\n",
       "      <th>Victims_Between_18-30_Yrs</th>\n",
       "      <th>Victims_Between_30-50_Yrs</th>\n",
       "      <th>Victims_of_Rape_Total</th>\n",
       "      <th>Victims_Upto_10_Yrs</th>\n",
       "    </tr>\n",
       "  </thead>\n",
       "  <tbody>\n",
       "    <tr>\n",
       "      <th>150</th>\n",
       "      <td>Chandigarh</td>\n",
       "      <td>2001</td>\n",
       "      <td>Total Rape Victims</td>\n",
       "      <td>18</td>\n",
       "      <td>0</td>\n",
       "      <td>8</td>\n",
       "      <td>4</td>\n",
       "      <td>4</td>\n",
       "      <td>3</td>\n",
       "      <td>19</td>\n",
       "      <td>0</td>\n",
       "    </tr>\n",
       "    <tr>\n",
       "      <th>152</th>\n",
       "      <td>Chandigarh</td>\n",
       "      <td>2001</td>\n",
       "      <td>Victims of Other Rape</td>\n",
       "      <td>16</td>\n",
       "      <td>0</td>\n",
       "      <td>8</td>\n",
       "      <td>4</td>\n",
       "      <td>2</td>\n",
       "      <td>3</td>\n",
       "      <td>17</td>\n",
       "      <td>0</td>\n",
       "    </tr>\n",
       "    <tr>\n",
       "      <th>270</th>\n",
       "      <td>Delhi</td>\n",
       "      <td>2001</td>\n",
       "      <td>Total Rape Victims</td>\n",
       "      <td>381</td>\n",
       "      <td>0</td>\n",
       "      <td>81</td>\n",
       "      <td>154</td>\n",
       "      <td>59</td>\n",
       "      <td>41</td>\n",
       "      <td>383</td>\n",
       "      <td>48</td>\n",
       "    </tr>\n",
       "    <tr>\n",
       "      <th>272</th>\n",
       "      <td>Delhi</td>\n",
       "      <td>2001</td>\n",
       "      <td>Victims of Other Rape</td>\n",
       "      <td>372</td>\n",
       "      <td>0</td>\n",
       "      <td>78</td>\n",
       "      <td>152</td>\n",
       "      <td>58</td>\n",
       "      <td>41</td>\n",
       "      <td>374</td>\n",
       "      <td>45</td>\n",
       "    </tr>\n",
       "    <tr>\n",
       "      <th>273</th>\n",
       "      <td>Delhi</td>\n",
       "      <td>2002</td>\n",
       "      <td>Total Rape Victims</td>\n",
       "      <td>403</td>\n",
       "      <td>0</td>\n",
       "      <td>54</td>\n",
       "      <td>52</td>\n",
       "      <td>217</td>\n",
       "      <td>49</td>\n",
       "      <td>407</td>\n",
       "      <td>35</td>\n",
       "    </tr>\n",
       "  </tbody>\n",
       "</table>\n",
       "</div>"
      ],
      "text/plain": [
       "      Area_Name  Year               Subgroup  Rape_Cases_Reported  \\\n",
       "150  Chandigarh  2001     Total Rape Victims                   18   \n",
       "152  Chandigarh  2001  Victims of Other Rape                   16   \n",
       "270       Delhi  2001     Total Rape Victims                  381   \n",
       "272       Delhi  2001  Victims of Other Rape                  372   \n",
       "273       Delhi  2002     Total Rape Victims                  403   \n",
       "\n",
       "     Victims_Above_50_Yrs  Victims_Between_10-14_Yrs  \\\n",
       "150                     0                          8   \n",
       "152                     0                          8   \n",
       "270                     0                         81   \n",
       "272                     0                         78   \n",
       "273                     0                         54   \n",
       "\n",
       "     Victims_Between_14-18_Yrs  Victims_Between_18-30_Yrs  \\\n",
       "150                          4                          4   \n",
       "152                          4                          2   \n",
       "270                        154                         59   \n",
       "272                        152                         58   \n",
       "273                         52                        217   \n",
       "\n",
       "     Victims_Between_30-50_Yrs  Victims_of_Rape_Total  Victims_Upto_10_Yrs  \n",
       "150                          3                     19                    0  \n",
       "152                          3                     17                    0  \n",
       "270                         41                    383                   48  \n",
       "272                         41                    374                   45  \n",
       "273                         49                    407                   35  "
      ]
     },
     "execution_count": 53,
     "metadata": {},
     "output_type": "execute_result"
    }
   ],
   "source": [
    "df[df['Victims_of_Rape_Total'] != df['Rape_Cases_Reported']].head()"
   ]
  },
  {
   "cell_type": "code",
   "execution_count": 54,
   "metadata": {},
   "outputs": [],
   "source": [
    "#we found from the avove data their are cases which are not reported,(differnce between rapecases reported and total rape victims)"
   ]
  },
  {
   "cell_type": "code",
   "execution_count": 55,
   "metadata": {},
   "outputs": [],
   "source": [
    "df['Unreported_Cases'] = df['Victims_of_Rape_Total'] - df['Rape_Cases_Reported']"
   ]
  },
  {
   "cell_type": "code",
   "execution_count": 90,
   "metadata": {},
   "outputs": [
    {
     "data": {
      "text/html": [
       "<div>\n",
       "<style scoped>\n",
       "    .dataframe tbody tr th:only-of-type {\n",
       "        vertical-align: middle;\n",
       "    }\n",
       "\n",
       "    .dataframe tbody tr th {\n",
       "        vertical-align: top;\n",
       "    }\n",
       "\n",
       "    .dataframe thead th {\n",
       "        text-align: right;\n",
       "    }\n",
       "</style>\n",
       "<table border=\"1\" class=\"dataframe\">\n",
       "  <thead>\n",
       "    <tr style=\"text-align: right;\">\n",
       "      <th></th>\n",
       "      <th>Area_Name</th>\n",
       "      <th>Year</th>\n",
       "      <th>Subgroup</th>\n",
       "      <th>Rape_Cases_Reported</th>\n",
       "      <th>Victims_Above_50_Yrs</th>\n",
       "      <th>Victims_Between_10-14_Yrs</th>\n",
       "      <th>Victims_Between_14-18_Yrs</th>\n",
       "      <th>Victims_Between_18-30_Yrs</th>\n",
       "      <th>Victims_Between_30-50_Yrs</th>\n",
       "      <th>Victims_of_Rape_Total</th>\n",
       "      <th>Victims_Upto_10_Yrs</th>\n",
       "      <th>Unreported_Cases</th>\n",
       "    </tr>\n",
       "  </thead>\n",
       "  <tbody>\n",
       "    <tr>\n",
       "      <th>152</th>\n",
       "      <td>Chandigarh</td>\n",
       "      <td>2001</td>\n",
       "      <td>Victims of Other Rape</td>\n",
       "      <td>16</td>\n",
       "      <td>0</td>\n",
       "      <td>8</td>\n",
       "      <td>4</td>\n",
       "      <td>2</td>\n",
       "      <td>3</td>\n",
       "      <td>17</td>\n",
       "      <td>0</td>\n",
       "      <td>1</td>\n",
       "    </tr>\n",
       "    <tr>\n",
       "      <th>272</th>\n",
       "      <td>Delhi</td>\n",
       "      <td>2001</td>\n",
       "      <td>Victims of Other Rape</td>\n",
       "      <td>372</td>\n",
       "      <td>0</td>\n",
       "      <td>78</td>\n",
       "      <td>152</td>\n",
       "      <td>58</td>\n",
       "      <td>41</td>\n",
       "      <td>374</td>\n",
       "      <td>45</td>\n",
       "      <td>2</td>\n",
       "    </tr>\n",
       "    <tr>\n",
       "      <th>275</th>\n",
       "      <td>Delhi</td>\n",
       "      <td>2002</td>\n",
       "      <td>Victims of Other Rape</td>\n",
       "      <td>371</td>\n",
       "      <td>0</td>\n",
       "      <td>48</td>\n",
       "      <td>40</td>\n",
       "      <td>207</td>\n",
       "      <td>49</td>\n",
       "      <td>375</td>\n",
       "      <td>31</td>\n",
       "      <td>4</td>\n",
       "    </tr>\n",
       "    <tr>\n",
       "      <th>284</th>\n",
       "      <td>Delhi</td>\n",
       "      <td>2005</td>\n",
       "      <td>Victims of Other Rape</td>\n",
       "      <td>626</td>\n",
       "      <td>2</td>\n",
       "      <td>111</td>\n",
       "      <td>45</td>\n",
       "      <td>402</td>\n",
       "      <td>25</td>\n",
       "      <td>634</td>\n",
       "      <td>49</td>\n",
       "      <td>8</td>\n",
       "    </tr>\n",
       "    <tr>\n",
       "      <th>287</th>\n",
       "      <td>Delhi</td>\n",
       "      <td>2006</td>\n",
       "      <td>Victims of Other Rape</td>\n",
       "      <td>597</td>\n",
       "      <td>2</td>\n",
       "      <td>107</td>\n",
       "      <td>255</td>\n",
       "      <td>148</td>\n",
       "      <td>21</td>\n",
       "      <td>600</td>\n",
       "      <td>67</td>\n",
       "      <td>3</td>\n",
       "    </tr>\n",
       "  </tbody>\n",
       "</table>\n",
       "</div>"
      ],
      "text/plain": [
       "      Area_Name  Year               Subgroup  Rape_Cases_Reported  \\\n",
       "152  Chandigarh  2001  Victims of Other Rape                   16   \n",
       "272       Delhi  2001  Victims of Other Rape                  372   \n",
       "275       Delhi  2002  Victims of Other Rape                  371   \n",
       "284       Delhi  2005  Victims of Other Rape                  626   \n",
       "287       Delhi  2006  Victims of Other Rape                  597   \n",
       "\n",
       "     Victims_Above_50_Yrs  Victims_Between_10-14_Yrs  \\\n",
       "152                     0                          8   \n",
       "272                     0                         78   \n",
       "275                     0                         48   \n",
       "284                     2                        111   \n",
       "287                     2                        107   \n",
       "\n",
       "     Victims_Between_14-18_Yrs  Victims_Between_18-30_Yrs  \\\n",
       "152                          4                          2   \n",
       "272                        152                         58   \n",
       "275                         40                        207   \n",
       "284                         45                        402   \n",
       "287                        255                        148   \n",
       "\n",
       "     Victims_Between_30-50_Yrs  Victims_of_Rape_Total  Victims_Upto_10_Yrs  \\\n",
       "152                          3                     17                    0   \n",
       "272                         41                    374                   45   \n",
       "275                         49                    375                   31   \n",
       "284                         25                    634                   49   \n",
       "287                         21                    600                   67   \n",
       "\n",
       "     Unreported_Cases  \n",
       "152                 1  \n",
       "272                 2  \n",
       "275                 4  \n",
       "284                 8  \n",
       "287                 3  "
      ]
     },
     "execution_count": 90,
     "metadata": {},
     "output_type": "execute_result"
    }
   ],
   "source": [
    "df[df['Unreported_Cases']>0].head()"
   ]
  },
  {
   "cell_type": "code",
   "execution_count": 91,
   "metadata": {},
   "outputs": [
    {
     "data": {
      "image/png": "[encoded data removed]",
      "text/plain": [
       "<Figure size 1080x432 with 1 Axes>"
      ]
     },
     "metadata": {
      "needs_background": "light"
     },
     "output_type": "display_data"
    },
    {
     "name": "stdout",
     "output_type": "stream",
     "text": [
      "Area_Name\n",
      "Maharashtra       59\n",
      "Delhi             25\n",
      "Meghalaya         13\n",
      "Kerala            12\n",
      "Tamil Nadu        11\n",
      "Punjab             7\n",
      "Rajasthan          5\n",
      "Sikkim             4\n",
      "Goa                4\n",
      "Tripura            2\n",
      "Manipur            2\n",
      "Gujarat            2\n",
      "Madhya Pradesh     1\n",
      "Chandigarh         1\n",
      "Name: Unreported_Cases, dtype: int64\n"
     ]
    }
   ],
   "source": [
    "unreported_victims_by_state = df.groupby('Area_Name').sum()\n",
    "unreported_victims_by_state.drop('Year', axis = 1, inplace = True)\n",
    "\n",
    "plt.subplots(figsize = (15, 6))\n",
    "ct = unreported_victims_by_state[unreported_victims_by_state['Unreported_Cases'] > 0]['Unreported_Cases'].sort_values(ascending = False)\n",
    "\n",
    "ax = ct.plot.bar()\n",
    "ax.set_xlabel('Area Name')\n",
    "ax.set_ylabel('Total Number of Unreported Rape Victims from 2001 to 2010')\n",
    "ax.set_title('Statewise total Unreported Rape Victims throughout 2001 to 2010')\n",
    "plt.show()\n",
    "print(ct)"
   ]
  },
  {
   "cell_type": "code",
   "execution_count": 92,
   "metadata": {},
   "outputs": [],
   "source": [
    "#from the above chart we can understand maharshtra has highest UNREPORTED cases"
   ]
  },
  {
   "cell_type": "code",
   "execution_count": 93,
   "metadata": {},
   "outputs": [
    {
     "name": "stdout",
     "output_type": "stream",
     "text": [
      "Year\n",
      "2007    34\n",
      "2010    21\n",
      "2008    18\n",
      "2006    17\n",
      "2005    17\n",
      "2009    16\n",
      "2003     9\n",
      "2004     6\n",
      "2002     5\n",
      "2001     3\n",
      "Name: Unreported_Cases, dtype: int64\n"
     ]
    },
    {
     "data": {
      "image/png": "[encoded data removed]",
      "text/plain": [
       "<Figure size 1080x432 with 1 Axes>"
      ]
     },
     "metadata": {
      "needs_background": "light"
     },
     "output_type": "display_data"
    }
   ],
   "source": [
    "unreported_victims_by_state = df.groupby('Year').sum()\n",
    "\n",
    "\n",
    "plt.subplots(figsize = (15, 6))\n",
    "ct = unreported_victims_by_state[unreported_victims_by_state['Unreported_Cases'] > 0]['Unreported_Cases'].sort_values(ascending = False)\n",
    "\n",
    "ax = ct.plot.bar()\n",
    "ax.set_xlabel('Year')\n",
    "ax.set_ylabel('Total Number of Unreported Rape Victims from 2001 to 2010')\n",
    "ax.set_title('Statewise total Unreported Rape Victims throughout 2001 to 2010')\n",
    "print(ct)"
   ]
  },
  {
   "cell_type": "code",
   "execution_count": null,
   "metadata": {},
   "outputs": [],
   "source": []
  },
  {
   "cell_type": "code",
   "execution_count": 94,
   "metadata": {},
   "outputs": [],
   "source": [
    "#unreported cases were highest in 2007 which was later reduced in next two years but again unreported cases are increasing in 2010, steps should be taken for the same"
   ]
  },
  {
   "cell_type": "code",
   "execution_count": 95,
   "metadata": {},
   "outputs": [
    {
     "data": {
      "image/png": "[encoded data removed]",
      "text/plain": [
       "<Figure size 1080x432 with 1 Axes>"
      ]
     },
     "metadata": {
      "needs_background": "light"
     },
     "output_type": "display_data"
    },
    {
     "name": "stdout",
     "output_type": "stream",
     "text": [
      "Area_Name\n",
      "Madhya Pradesh               29256\n",
      "West Bengal                  16378\n",
      "Uttar Pradesh                15053\n",
      "Maharashtra                  14446\n",
      "Assam                        12762\n",
      "Rajasthan                    11949\n",
      "Bihar                        11263\n",
      "Andhra Pradesh               10696\n",
      "Chhattisgarh                  9751\n",
      "Odisha                        8860\n",
      "Jharkhand                     7563\n",
      "Tamil Nadu                    5538\n",
      "Kerala                        5296\n",
      "Delhi                         5146\n",
      "Haryana                       5009\n",
      "Punjab                        4300\n",
      "Karnataka                     3917\n",
      "Gujarat                       3337\n",
      "Jammu & Kashmir               2230\n",
      "Tripura                       1624\n",
      "Himachal Pradesh              1453\n",
      "Uttarakhand                   1101\n",
      "Meghalaya                      726\n",
      "Mizoram                        646\n",
      "Arunachal Pradesh              412\n",
      "Manipur                        271\n",
      "Goa                            266\n",
      "Chandigarh                     227\n",
      "Nagaland                       176\n",
      "Sikkim                         145\n",
      "Andaman & Nicobar Islands       84\n",
      "Puducherry                      57\n",
      "Dadra & Nagar Haveli            49\n",
      "Daman & Diu                     14\n",
      "Lakshadweep                      7\n",
      "Name: Rape_Cases_Reported, dtype: int64\n"
     ]
    }
   ],
   "source": [
    "plt.subplots(figsize = (15, 6))\n",
    "rape_victims_by_state = df.groupby('Area_Name').sum()\n",
    "pt = rape_victims_by_state['Rape_Cases_Reported'].sort_values(ascending = False)\n",
    "\n",
    "ax = pt.plot.bar()\n",
    "\n",
    "ax.set_xlabel('Area Name')\n",
    "ax.set_ylabel('Total Number of Reported Rape Victims from 2001 to 2010')\n",
    "ax.set_title('Statewise total Reported Rape Victims throught the Years 2001 to 2010')\n",
    "plt.show()\n",
    "print(pt)"
   ]
  },
  {
   "cell_type": "code",
   "execution_count": 96,
   "metadata": {},
   "outputs": [],
   "source": [
    "#we had observed previously unreported cases were more in MP,Delhi and Meghalaya but in case of reported cases MP,westbengal and UP have larger numberws"
   ]
  },
  {
   "cell_type": "code",
   "execution_count": 97,
   "metadata": {},
   "outputs": [
    {
     "data": {
      "text/plain": [
       "1          1\n",
       "2          2\n",
       "4          0\n",
       "5          2\n",
       "7          0\n",
       "        ... \n",
       "1043    2254\n",
       "1045       3\n",
       "1046    2333\n",
       "1048       4\n",
       "1049    2307\n",
       "Name: Victims_of_Rape_Total, Length: 700, dtype: int64"
      ]
     },
     "execution_count": 97,
     "metadata": {},
     "output_type": "execute_result"
    }
   ],
   "source": [
    "df['Victims_of_Rape_Total']"
   ]
  },
  {
   "cell_type": "code",
   "execution_count": 98,
   "metadata": {},
   "outputs": [
    {
     "data": {
      "image/png": "[encoded data removed]",
      "text/plain": [
       "<Figure size 432x288 with 1 Axes>"
      ]
     },
     "metadata": {
      "needs_background": "light"
     },
     "output_type": "display_data"
    }
   ],
   "source": [
    "plt.scatter(df[\"Victims_of_Rape_Total\"],df[\"Year\"])\n",
    "plt.title(\"TOTAL_RAPE_VICTIMS\")\n",
    "plt.xlabel(\"Victims_of_Rape_Total\")\n",
    "plt.ylabel(\"Year\")\n",
    "plt.show()"
   ]
  },
  {
   "cell_type": "code",
   "execution_count": 99,
   "metadata": {},
   "outputs": [],
   "source": [
    "#cases have been increasing over the years "
   ]
  },
  {
   "cell_type": "code",
   "execution_count": 100,
   "metadata": {},
   "outputs": [],
   "source": [
    "#EDA"
   ]
  },
  {
   "cell_type": "code",
   "execution_count": 101,
   "metadata": {},
   "outputs": [
    {
     "data": {
      "text/plain": [
       "<function matplotlib.pyplot.show(*args, **kw)>"
      ]
     },
     "execution_count": 101,
     "metadata": {},
     "output_type": "execute_result"
    },
    {
     "data": {
      "image/png": "[encoded data removed]",
      "text/plain": [
       "<Figure size 432x288 with 2 Axes>"
      ]
     },
     "metadata": {
      "needs_background": "light"
     },
     "output_type": "display_data"
    }
   ],
   "source": [
    "corr=df.corr()\n",
    "sns.heatmap(corr,annot=True)\n",
    "plt.show"
   ]
  },
  {
   "cell_type": "code",
   "execution_count": 102,
   "metadata": {},
   "outputs": [],
   "source": [
    "#we can observe rape cases reported and victims_of_rape_Total is have high correlation with victims between age 18-50 which is 97%&93% repectively\n",
    "#while 10-18 years victims are are 75 to 78%\n",
    "#above 50 and below 10 victims are comparitively low ranging 65-67%\n",
    "#unreported rape cases are more among victims of upto 10year age\n",
    "#we can observe rape casses reported and victims of rape total both are having similar data and results\n"
   ]
  },
  {
   "cell_type": "code",
   "execution_count": 103,
   "metadata": {},
   "outputs": [
    {
     "data": {
      "text/html": [
       "<div>\n",
       "<style scoped>\n",
       "    .dataframe tbody tr th:only-of-type {\n",
       "        vertical-align: middle;\n",
       "    }\n",
       "\n",
       "    .dataframe tbody tr th {\n",
       "        vertical-align: top;\n",
       "    }\n",
       "\n",
       "    .dataframe thead th {\n",
       "        text-align: right;\n",
       "    }\n",
       "</style>\n",
       "<table border=\"1\" class=\"dataframe\">\n",
       "  <thead>\n",
       "    <tr style=\"text-align: right;\">\n",
       "      <th></th>\n",
       "      <th>Area_Name</th>\n",
       "      <th>Year</th>\n",
       "      <th>Subgroup</th>\n",
       "      <th>Rape_Cases_Reported</th>\n",
       "      <th>Victims_Above_50_Yrs</th>\n",
       "      <th>Victims_Between_10-14_Yrs</th>\n",
       "      <th>Victims_Between_14-18_Yrs</th>\n",
       "      <th>Victims_Between_18-30_Yrs</th>\n",
       "      <th>Victims_Between_30-50_Yrs</th>\n",
       "      <th>Victims_of_Rape_Total</th>\n",
       "      <th>Victims_Upto_10_Yrs</th>\n",
       "      <th>Unreported_Cases</th>\n",
       "    </tr>\n",
       "  </thead>\n",
       "  <tbody>\n",
       "    <tr>\n",
       "      <th>152</th>\n",
       "      <td>Chandigarh</td>\n",
       "      <td>2001</td>\n",
       "      <td>Victims of Other Rape</td>\n",
       "      <td>16</td>\n",
       "      <td>0</td>\n",
       "      <td>8</td>\n",
       "      <td>4</td>\n",
       "      <td>2</td>\n",
       "      <td>3</td>\n",
       "      <td>17</td>\n",
       "      <td>0</td>\n",
       "      <td>1</td>\n",
       "    </tr>\n",
       "    <tr>\n",
       "      <th>272</th>\n",
       "      <td>Delhi</td>\n",
       "      <td>2001</td>\n",
       "      <td>Victims of Other Rape</td>\n",
       "      <td>372</td>\n",
       "      <td>0</td>\n",
       "      <td>78</td>\n",
       "      <td>152</td>\n",
       "      <td>58</td>\n",
       "      <td>41</td>\n",
       "      <td>374</td>\n",
       "      <td>45</td>\n",
       "      <td>2</td>\n",
       "    </tr>\n",
       "    <tr>\n",
       "      <th>275</th>\n",
       "      <td>Delhi</td>\n",
       "      <td>2002</td>\n",
       "      <td>Victims of Other Rape</td>\n",
       "      <td>371</td>\n",
       "      <td>0</td>\n",
       "      <td>48</td>\n",
       "      <td>40</td>\n",
       "      <td>207</td>\n",
       "      <td>49</td>\n",
       "      <td>375</td>\n",
       "      <td>31</td>\n",
       "      <td>4</td>\n",
       "    </tr>\n",
       "    <tr>\n",
       "      <th>284</th>\n",
       "      <td>Delhi</td>\n",
       "      <td>2005</td>\n",
       "      <td>Victims of Other Rape</td>\n",
       "      <td>626</td>\n",
       "      <td>2</td>\n",
       "      <td>111</td>\n",
       "      <td>45</td>\n",
       "      <td>402</td>\n",
       "      <td>25</td>\n",
       "      <td>634</td>\n",
       "      <td>49</td>\n",
       "      <td>8</td>\n",
       "    </tr>\n",
       "    <tr>\n",
       "      <th>287</th>\n",
       "      <td>Delhi</td>\n",
       "      <td>2006</td>\n",
       "      <td>Victims of Other Rape</td>\n",
       "      <td>597</td>\n",
       "      <td>2</td>\n",
       "      <td>107</td>\n",
       "      <td>255</td>\n",
       "      <td>148</td>\n",
       "      <td>21</td>\n",
       "      <td>600</td>\n",
       "      <td>67</td>\n",
       "      <td>3</td>\n",
       "    </tr>\n",
       "  </tbody>\n",
       "</table>\n",
       "</div>"
      ],
      "text/plain": [
       "      Area_Name  Year               Subgroup  Rape_Cases_Reported  \\\n",
       "152  Chandigarh  2001  Victims of Other Rape                   16   \n",
       "272       Delhi  2001  Victims of Other Rape                  372   \n",
       "275       Delhi  2002  Victims of Other Rape                  371   \n",
       "284       Delhi  2005  Victims of Other Rape                  626   \n",
       "287       Delhi  2006  Victims of Other Rape                  597   \n",
       "\n",
       "     Victims_Above_50_Yrs  Victims_Between_10-14_Yrs  \\\n",
       "152                     0                          8   \n",
       "272                     0                         78   \n",
       "275                     0                         48   \n",
       "284                     2                        111   \n",
       "287                     2                        107   \n",
       "\n",
       "     Victims_Between_14-18_Yrs  Victims_Between_18-30_Yrs  \\\n",
       "152                          4                          2   \n",
       "272                        152                         58   \n",
       "275                         40                        207   \n",
       "284                         45                        402   \n",
       "287                        255                        148   \n",
       "\n",
       "     Victims_Between_30-50_Yrs  Victims_of_Rape_Total  Victims_Upto_10_Yrs  \\\n",
       "152                          3                     17                    0   \n",
       "272                         41                    374                   45   \n",
       "275                         49                    375                   31   \n",
       "284                         25                    634                   49   \n",
       "287                         21                    600                   67   \n",
       "\n",
       "     Unreported_Cases  \n",
       "152                 1  \n",
       "272                 2  \n",
       "275                 4  \n",
       "284                 8  \n",
       "287                 3  "
      ]
     },
     "execution_count": 103,
     "metadata": {},
     "output_type": "execute_result"
    }
   ],
   "source": [
    "df=df[df['Subgroup'] != 'Total Rape Victims']\n",
    "\n",
    "df[df['Victims_of_Rape_Total'] != df['Rape_Cases_Reported']].head()"
   ]
  },
  {
   "cell_type": "code",
   "execution_count": 104,
   "metadata": {},
   "outputs": [],
   "source": [
    "mp_rape_victims = df[df['Area_Name'] == 'Madhya Pradesh']"
   ]
  },
  {
   "cell_type": "code",
   "execution_count": 105,
   "metadata": {},
   "outputs": [
    {
     "data": {
      "text/html": [
       "<div>\n",
       "<style scoped>\n",
       "    .dataframe tbody tr th:only-of-type {\n",
       "        vertical-align: middle;\n",
       "    }\n",
       "\n",
       "    .dataframe tbody tr th {\n",
       "        vertical-align: top;\n",
       "    }\n",
       "\n",
       "    .dataframe thead th {\n",
       "        text-align: right;\n",
       "    }\n",
       "</style>\n",
       "<table border=\"1\" class=\"dataframe\">\n",
       "  <thead>\n",
       "    <tr style=\"text-align: right;\">\n",
       "      <th></th>\n",
       "      <th>Area_Name</th>\n",
       "      <th>Year</th>\n",
       "      <th>Subgroup</th>\n",
       "      <th>Rape_Cases_Reported</th>\n",
       "      <th>Victims_Above_50_Yrs</th>\n",
       "      <th>Victims_Between_10-14_Yrs</th>\n",
       "      <th>Victims_Between_14-18_Yrs</th>\n",
       "      <th>Victims_Between_18-30_Yrs</th>\n",
       "      <th>Victims_Between_30-50_Yrs</th>\n",
       "      <th>Victims_of_Rape_Total</th>\n",
       "      <th>Victims_Upto_10_Yrs</th>\n",
       "      <th>Unreported_Cases</th>\n",
       "    </tr>\n",
       "  </thead>\n",
       "  <tbody>\n",
       "    <tr>\n",
       "      <th>571</th>\n",
       "      <td>Madhya Pradesh</td>\n",
       "      <td>2001</td>\n",
       "      <td>Victims of Incest Rape</td>\n",
       "      <td>301</td>\n",
       "      <td>0</td>\n",
       "      <td>39</td>\n",
       "      <td>66</td>\n",
       "      <td>130</td>\n",
       "      <td>56</td>\n",
       "      <td>301</td>\n",
       "      <td>10</td>\n",
       "      <td>0</td>\n",
       "    </tr>\n",
       "    <tr>\n",
       "      <th>572</th>\n",
       "      <td>Madhya Pradesh</td>\n",
       "      <td>2001</td>\n",
       "      <td>Victims of Other Rape</td>\n",
       "      <td>2550</td>\n",
       "      <td>27</td>\n",
       "      <td>265</td>\n",
       "      <td>491</td>\n",
       "      <td>1120</td>\n",
       "      <td>571</td>\n",
       "      <td>2550</td>\n",
       "      <td>76</td>\n",
       "      <td>0</td>\n",
       "    </tr>\n",
       "    <tr>\n",
       "      <th>574</th>\n",
       "      <td>Madhya Pradesh</td>\n",
       "      <td>2002</td>\n",
       "      <td>Victims of Incest Rape</td>\n",
       "      <td>72</td>\n",
       "      <td>1</td>\n",
       "      <td>11</td>\n",
       "      <td>16</td>\n",
       "      <td>37</td>\n",
       "      <td>4</td>\n",
       "      <td>72</td>\n",
       "      <td>3</td>\n",
       "      <td>0</td>\n",
       "    </tr>\n",
       "    <tr>\n",
       "      <th>575</th>\n",
       "      <td>Madhya Pradesh</td>\n",
       "      <td>2002</td>\n",
       "      <td>Victims of Other Rape</td>\n",
       "      <td>2819</td>\n",
       "      <td>13</td>\n",
       "      <td>174</td>\n",
       "      <td>236</td>\n",
       "      <td>1512</td>\n",
       "      <td>807</td>\n",
       "      <td>2819</td>\n",
       "      <td>77</td>\n",
       "      <td>0</td>\n",
       "    </tr>\n",
       "    <tr>\n",
       "      <th>577</th>\n",
       "      <td>Madhya Pradesh</td>\n",
       "      <td>2003</td>\n",
       "      <td>Victims of Incest Rape</td>\n",
       "      <td>123</td>\n",
       "      <td>0</td>\n",
       "      <td>10</td>\n",
       "      <td>23</td>\n",
       "      <td>71</td>\n",
       "      <td>16</td>\n",
       "      <td>123</td>\n",
       "      <td>3</td>\n",
       "      <td>0</td>\n",
       "    </tr>\n",
       "  </tbody>\n",
       "</table>\n",
       "</div>"
      ],
      "text/plain": [
       "          Area_Name  Year                Subgroup  Rape_Cases_Reported  \\\n",
       "571  Madhya Pradesh  2001  Victims of Incest Rape                  301   \n",
       "572  Madhya Pradesh  2001   Victims of Other Rape                 2550   \n",
       "574  Madhya Pradesh  2002  Victims of Incest Rape                   72   \n",
       "575  Madhya Pradesh  2002   Victims of Other Rape                 2819   \n",
       "577  Madhya Pradesh  2003  Victims of Incest Rape                  123   \n",
       "\n",
       "     Victims_Above_50_Yrs  Victims_Between_10-14_Yrs  \\\n",
       "571                     0                         39   \n",
       "572                    27                        265   \n",
       "574                     1                         11   \n",
       "575                    13                        174   \n",
       "577                     0                         10   \n",
       "\n",
       "     Victims_Between_14-18_Yrs  Victims_Between_18-30_Yrs  \\\n",
       "571                         66                        130   \n",
       "572                        491                       1120   \n",
       "574                         16                         37   \n",
       "575                        236                       1512   \n",
       "577                         23                         71   \n",
       "\n",
       "     Victims_Between_30-50_Yrs  Victims_of_Rape_Total  Victims_Upto_10_Yrs  \\\n",
       "571                         56                    301                   10   \n",
       "572                        571                   2550                   76   \n",
       "574                          4                     72                    3   \n",
       "575                        807                   2819                   77   \n",
       "577                         16                    123                    3   \n",
       "\n",
       "     Unreported_Cases  \n",
       "571                 0  \n",
       "572                 0  \n",
       "574                 0  \n",
       "575                 0  \n",
       "577                 0  "
      ]
     },
     "execution_count": 105,
     "metadata": {},
     "output_type": "execute_result"
    }
   ],
   "source": [
    "mp_rape_victims.head()\n"
   ]
  },
  {
   "cell_type": "code",
   "execution_count": 106,
   "metadata": {},
   "outputs": [
    {
     "data": {
      "image/png": "[encoded data removed]",
      "text/plain": [
       "<Figure size 1080x432 with 1 Axes>"
      ]
     },
     "metadata": {
      "needs_background": "light"
     },
     "output_type": "display_data"
    },
    {
     "name": "stdout",
     "output_type": "stream",
     "text": [
      "Year\n",
      "2001    2851\n",
      "2002    2891\n",
      "2003    2738\n",
      "2004    2875\n",
      "2005    2921\n",
      "2006    2900\n",
      "2007    3010\n",
      "2008    2937\n",
      "2009    2998\n",
      "2010    3135\n",
      "Name: Rape_Cases_Reported, dtype: int64\n"
     ]
    }
   ],
   "source": [
    "mp_rape_victims_by_year = mp_rape_victims.groupby('Year').sum()\n",
    "\n",
    "plt.subplots(figsize = (15, 6))\n",
    "pt = mp_rape_victims_by_year['Rape_Cases_Reported']\n",
    "ax = pt.plot.bar()\n",
    "\n",
    "ax.set_xlabel('Year')\n",
    "ax.set_ylabel('Total Number of Rape Victims from 2001 to 2010')\n",
    "ax.set_title('MadhyaPradesh total Rape Victims throught the Years 2001 to 2010')\n",
    "plt.show()\n",
    "print(pt)"
   ]
  },
  {
   "cell_type": "code",
   "execution_count": 107,
   "metadata": {},
   "outputs": [],
   "source": [
    "#this figure shows the cases in madhyapradesh is fluctuating and found highest of past 10 years is in 2010."
   ]
  },
  {
   "cell_type": "code",
   "execution_count": 109,
   "metadata": {},
   "outputs": [
    {
     "data": {
      "image/png": "[encoded data removed]",
      "text/plain": [
       "<Figure size 1080x432 with 1 Axes>"
      ]
     },
     "metadata": {
      "needs_background": "light"
     },
     "output_type": "display_data"
    },
    {
     "data": {
      "image/png": "[encoded data removed]",
      "text/plain": [
       "<Figure size 432x288 with 1 Axes>"
      ]
     },
     "metadata": {
      "needs_background": "light"
     },
     "output_type": "display_data"
    },
    {
     "name": "stdout",
     "output_type": "stream",
     "text": [
      "      Rape_Cases_Reported  Victims_Above_50_Yrs  Victims_Between_10-14_Yrs  \\\n",
      "Year                                                                         \n",
      "2001                  301                     0                         39   \n",
      "2002                   72                     1                         11   \n",
      "2003                  123                     0                         10   \n",
      "2004                   63                     0                          5   \n",
      "2005                  141                     1                         18   \n",
      "2006                   29                     0                          5   \n",
      "2007                   49                     0                          7   \n",
      "2008                   52                     0                          9   \n",
      "2009                   14                     0                          1   \n",
      "2010                   21                     0                          1   \n",
      "\n",
      "      Victims_Between_14-18_Yrs  Victims_Between_18-30_Yrs  \\\n",
      "Year                                                         \n",
      "2001                         66                        130   \n",
      "2002                         16                         37   \n",
      "2003                         23                         71   \n",
      "2004                         24                         24   \n",
      "2005                         43                         57   \n",
      "2006                          5                         12   \n",
      "2007                         23                         14   \n",
      "2008                         20                         15   \n",
      "2009                          9                          2   \n",
      "2010                         10                          4   \n",
      "\n",
      "      Victims_Between_30-50_Yrs  Victims_of_Rape_Total  Victims_Upto_10_Yrs  \\\n",
      "Year                                                                          \n",
      "2001                         56                    301                   10   \n",
      "2002                          4                     72                    3   \n",
      "2003                         16                    123                    3   \n",
      "2004                          7                     63                    3   \n",
      "2005                         13                    141                    9   \n",
      "2006                          4                     29                    3   \n",
      "2007                          4                     49                    1   \n",
      "2008                          5                     52                    3   \n",
      "2009                          1                     14                    1   \n",
      "2010                          4                     21                    2   \n",
      "\n",
      "      Unreported_Cases  \n",
      "Year                    \n",
      "2001                 0  \n",
      "2002                 0  \n",
      "2003                 0  \n",
      "2004                 0  \n",
      "2005                 0  \n",
      "2006                 0  \n",
      "2007                 0  \n",
      "2008                 0  \n",
      "2009                 0  \n",
      "2010                 0  \n"
     ]
    }
   ],
   "source": [
    "mp_rape_victims = df[df['Area_Name'] == 'Madhya Pradesh']\n",
    "mp_rape_victims_by_year = mp_rape_victims.groupby('Year').sum()\n",
    "mp_incest_rape_cases = mp_rape_victims[mp_rape_victims['Subgroup'] == 'Victims of Incest Rape']\n",
    "plt.subplots(figsize = (15, 6))\n",
    "pt = mp_incest_rape_cases.groupby('Year').sum()\n",
    "ax = pt.plot.bar()\n",
    "\n",
    "ax.set_xlabel('Year')\n",
    "ax.set_ylabel('Total Number of incest Rape Victims from 2001 to 2010')\n",
    "ax.set_title('MadhyaPradesh total incest Rape Victims throught the Years 2001 to 2010')\n",
    "plt.show()\n",
    "print(pt)"
   ]
  },
  {
   "cell_type": "code",
   "execution_count": null,
   "metadata": {},
   "outputs": [],
   "source": []
  }
 ],
 "metadata": {
  "kernelspec": {
   "display_name": "Python 3",
   "language": "python",
   "name": "python3"
  },
  "language_info": {
   "codemirror_mode": {
    "name": "ipython",
    "version": 3
   },
   "file_extension": ".py",
   "mimetype": "text/x-python",
   "name": "python",
   "nbconvert_exporter": "python",
   "pygments_lexer": "ipython3",
   "version": "3.8.3"
  }
 },
 "nbformat": 4,
 "nbformat_minor": 4
}
